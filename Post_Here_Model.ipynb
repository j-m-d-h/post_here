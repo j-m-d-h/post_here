{
  "nbformat": 4,
  "nbformat_minor": 0,
  "metadata": {
    "colab": {
      "name": "Post_Here_Model (1).ipynb",
      "provenance": [],
      "machine_shape": "hm"
    },
    "kernelspec": {
      "display_name": "Python 3",
      "language": "python",
      "name": "python3"
    },
    "language_info": {
      "codemirror_mode": {
        "name": "ipython",
        "version": 3
      },
      "file_extension": ".py",
      "mimetype": "text/x-python",
      "name": "python",
      "nbconvert_exporter": "python",
      "pygments_lexer": "ipython3",
      "version": "3.7.4"
    }
  },
  "cells": [
    {
      "cell_type": "code",
      "metadata": {
        "colab_type": "code",
        "id": "Q-Ujyg-LbPfM",
        "colab": {}
      },
      "source": [
        "import pandas as pd\n",
        "from sklearn.feature_extraction.text import TfidfVectorizer\n",
        "from sklearn.neighbors import NearestNeighbors\n",
        "\n",
        "\n",
        "def imposter_syndrome_model(string, results=3):\n",
        "    df = pd.read_csv('post_here2.csv')\n",
        "    exp_list = df.drop_duplicates(subset='subreddit').drop(columns=['subreddit']).astype(str).values.tolist()\n",
        "\n",
        "    subreddit_list = df.subreddit.values.tolist()\n",
        "\n",
        "    multisub_string = []\n",
        "    for i in range(len(exp_list)):\n",
        "        multisub_string.append(' '.join(exp_list[i]))\n",
        "\n",
        "    vectorizer = TfidfVectorizer(stop_words='english', strip_accents='ascii',\n",
        "                                 ngram_range=(1,3), sublinear_tf=True)\n",
        "    \n",
        "    vectorizer2 = TfidfVectorizer(stop_words='english', strip_accents='ascii',\n",
        "                                  ngram_range=(1,3), use_idf=False)\n",
        "                               \n",
        "    dtm = vectorizer.fit_transform(multisub_string)\n",
        "\n",
        "    model = NearestNeighbors(n_neighbors=results, algorithm='brute', n_jobs=3)\n",
        "    model.fit(dtm)\n",
        "\n",
        "    vectorizer2.fit(multisub_string)\n",
        "    text = vectorizer2.transform([string])\n",
        "    \n",
        "    pred = model.kneighbors(text, return_distance=True)\n",
        "    for n in range(results):\n",
        "        print('Predicted Subreddit:', subreddit_list[pred[1][0][n]], \n",
        "              ' | Distance:', pred[0][0][n])\n",
        "    print('# of Terms:', dtm.shape[1])"
      ],
      "execution_count": 0,
      "outputs": []
    },
    {
      "cell_type": "code",
      "metadata": {
        "colab_type": "code",
        "id": "hg9vuxYibVtg",
        "outputId": "2d97f44c-ee36-402e-9679-99bc3c73d253",
        "colab": {
          "base_uri": "https://localhost:8080/",
          "height": 84
        }
      },
      "source": [
        "imposter_syndrome_model('The Brita water bottle is the best water bottle ever made.')"
      ],
      "execution_count": 0,
      "outputs": [
        {
          "output_type": "stream",
          "text": [
            "Predicted Subreddit: HydroHomies  | Distance: 1.3942166643659504\n",
            "Predicted Subreddit: HydroHomies  | Distance: 1.3942169348078353\n",
            "Predicted Subreddit: Perfectfit  | Distance: 1.3988384891570194\n",
            "# of Terms: 20494475\n"
          ],
          "name": "stdout"
        }
      ]
    },
    {
      "cell_type": "code",
      "metadata": {
        "id": "YT10xHjhPH6Q",
        "colab_type": "code",
        "outputId": "9b4f6af6-14da-4041-8da4-35278137f099",
        "colab": {
          "base_uri": "https://localhost:8080/",
          "height": 84
        }
      },
      "source": [
        "imposter_syndrome_model('Mt. Everest is not the tallest mountain')"
      ],
      "execution_count": 0,
      "outputs": [
        {
          "output_type": "stream",
          "text": [
            "Predicted Subreddit: LiveFromNewYork  | Distance: 1.4002352743322601\n",
            "Predicted Subreddit: climbing  | Distance: 1.402026622638479\n",
            "Predicted Subreddit: SonyAlpha  | Distance: 1.4021698550129607\n",
            "# of Terms: 20485888\n"
          ],
          "name": "stdout"
        }
      ]
    },
    {
      "cell_type": "code",
      "metadata": {
        "id": "2aZCC5l4PH6U",
        "colab_type": "code",
        "outputId": "6e9d28b9-4a1b-4681-b8be-5892147fc987",
        "colab": {
          "base_uri": "https://localhost:8080/",
          "height": 84
        }
      },
      "source": [
        "imposter_syndrome_model('Where can I find organic almond milk?')"
      ],
      "execution_count": 0,
      "outputs": [
        {
          "output_type": "stream",
          "text": [
            "Predicted Subreddit: vegan  | Distance: 1.396353085847346\n",
            "Predicted Subreddit: nespresso  | Distance: 1.397246525362986\n",
            "Predicted Subreddit: aldi  | Distance: 1.3985969028519714\n",
            "# of Terms: 20494475\n"
          ],
          "name": "stdout"
        }
      ]
    },
    {
      "cell_type": "code",
      "metadata": {
        "id": "DzRA3S6gPH6W",
        "colab_type": "code",
        "outputId": "d90490d6-6392-4916-ec41-77670757e67a",
        "colab": {
          "base_uri": "https://localhost:8080/",
          "height": 84
        }
      },
      "source": [
        "imposter_syndrome_model(\"Steve Jobs\")"
      ],
      "execution_count": 0,
      "outputs": [
        {
          "output_type": "stream",
          "text": [
            "Predicted Subreddit: apple  | Distance: 1.3988465104552863\n",
            "Predicted Subreddit: iphone  | Distance: 1.4015421091979032\n",
            "Predicted Subreddit: mac  | Distance: 1.4040836400158592\n",
            "# of Terms: 20494475\n"
          ],
          "name": "stdout"
        }
      ]
    },
    {
      "cell_type": "code",
      "metadata": {
        "id": "CQtErsakA31o",
        "colab_type": "code",
        "outputId": "17cf927a-32e6-438f-924c-1cb6c8827858",
        "colab": {
          "base_uri": "https://localhost:8080/",
          "height": 84
        }
      },
      "source": [
        "imposter_syndrome_model(\"Sometimes I feel like hurting myself.\")"
      ],
      "execution_count": 0,
      "outputs": [
        {
          "output_type": "stream",
          "text": [
            "Predicted Subreddit: selfimprovement  | Distance: 1.4020228762081604\n",
            "Predicted Subreddit: cscareerquestions  | Distance: 1.4036348059536523\n",
            "Predicted Subreddit: TheGirlSurvivalGuide  | Distance: 1.404158990689207\n",
            "# of Terms: 20494475\n"
          ],
          "name": "stdout"
        }
      ]
    },
    {
      "cell_type": "code",
      "metadata": {
        "id": "uVzTDRZhKj5k",
        "colab_type": "code",
        "outputId": "ed4cfa03-3e18-4760-d072-ce6838fd1cc6",
        "colab": {
          "base_uri": "https://localhost:8080/",
          "height": 84
        }
      },
      "source": [
        "imposter_syndrome_model(\"What is the atomic number for hydrogen?\")"
      ],
      "execution_count": 0,
      "outputs": [
        {
          "output_type": "stream",
          "text": [
            "Predicted Subreddit: chemhelp  | Distance: 1.4023860312566059\n",
            "Predicted Subreddit: pickuplines  | Distance: 1.404051309998417\n",
            "Predicted Subreddit: Physics  | Distance: 1.4047572260021444\n",
            "# of Terms: 20494475\n"
          ],
          "name": "stdout"
        }
      ]
    },
    {
      "cell_type": "code",
      "metadata": {
        "id": "zsfxIWGpRif1",
        "colab_type": "code",
        "outputId": "a43790a5-30a9-49c1-8ddf-047748e62fbd",
        "colab": {
          "base_uri": "https://localhost:8080/",
          "height": 84
        }
      },
      "source": [
        "imposter_syndrome_model(\"[Wojnarowski] Memphis has agreed to a deal to send Andre Iguodala to Miami, league source tells ESPN. Iguodala agreed to trade and has agreed to a two-year, $30M extension with Miami.\")"
      ],
      "execution_count": 0,
      "outputs": [
        {
          "output_type": "stream",
          "text": [
            "Predicted Subreddit: fantasybball  | Distance: 1.3660008974273188\n",
            "Predicted Subreddit: nba  | Distance: 1.3876463489577626\n",
            "Predicted Subreddit: warriors  | Distance: 1.3895953942748538\n",
            "# of Terms: 20494475\n"
          ],
          "name": "stdout"
        }
      ]
    },
    {
      "cell_type": "code",
      "metadata": {
        "id": "sS4h0CSSdQuW",
        "colab_type": "code",
        "outputId": "cbce56fb-7c34-40d1-f374-94dfb1959a9e",
        "colab": {
          "base_uri": "https://localhost:8080/",
          "height": 84
        }
      },
      "source": [
        "imposter_syndrome_model(\"Alex Rodriguez\")"
      ],
      "execution_count": 0,
      "outputs": [
        {
          "output_type": "stream",
          "text": [
            "Predicted Subreddit: replyallpodcast  | Distance: 1.4042094109721222\n",
            "Predicted Subreddit: fantasybaseball  | Distance: 1.4046036357152938\n",
            "Predicted Subreddit: entertainment  | Distance: 1.406227991805839\n",
            "# of Terms: 20494475\n"
          ],
          "name": "stdout"
        }
      ]
    },
    {
      "cell_type": "code",
      "metadata": {
        "id": "IgajVnFcMbBj",
        "colab_type": "code",
        "colab": {}
      },
      "source": [
        "import pandas as pd\n",
        "\n",
        "df = pd.read_csv('post_here2.csv')"
      ],
      "execution_count": 0,
      "outputs": []
    },
    {
      "cell_type": "code",
      "metadata": {
        "id": "3D5dqdAmNPs0",
        "colab_type": "code",
        "colab": {}
      },
      "source": [
        "df_clean = df.drop(columns='Unnamed: 0').drop_duplicates(subset='subreddit')"
      ],
      "execution_count": 0,
      "outputs": []
    },
    {
      "cell_type": "code",
      "metadata": {
        "id": "y0QXSGhzlZF3",
        "colab_type": "code",
        "outputId": "d9aa9e9e-2de1-4996-d329-2f701beda748",
        "colab": {
          "base_uri": "https://localhost:8080/",
          "height": 50
        }
      },
      "source": [
        "print(df_clean.shape)\n",
        "print(df_clean.isna().sum().sum())"
      ],
      "execution_count": 0,
      "outputs": [
        {
          "output_type": "stream",
          "text": [
            "(2310, 1001)\n",
            "29796\n"
          ],
          "name": "stdout"
        }
      ]
    },
    {
      "cell_type": "code",
      "metadata": {
        "id": "0gZRifF2lzP-",
        "colab_type": "code",
        "outputId": "a2ef158f-2eac-46b6-f9f0-c44523883bf8",
        "colab": {
          "base_uri": "https://localhost:8080/",
          "height": 34
        }
      },
      "source": [
        "(2310 * 1000) - 29796"
      ],
      "execution_count": 0,
      "outputs": [
        {
          "output_type": "execute_result",
          "data": {
            "text/plain": [
              "2280204"
            ]
          },
          "metadata": {
            "tags": []
          },
          "execution_count": 8
        }
      ]
    },
    {
      "cell_type": "code",
      "metadata": {
        "id": "er_ZCMIymX0f",
        "colab_type": "code",
        "outputId": "23c91ee7-a677-44da-9068-65fb92ba00dd",
        "colab": {
          "base_uri": "https://localhost:8080/",
          "height": 34
        }
      },
      "source": [
        "df_clean.drop(columns='subreddit').notnull().sum().sum()"
      ],
      "execution_count": 0,
      "outputs": [
        {
          "output_type": "execute_result",
          "data": {
            "text/plain": [
              "2280204"
            ]
          },
          "metadata": {
            "tags": []
          },
          "execution_count": 9
        }
      ]
    },
    {
      "cell_type": "code",
      "metadata": {
        "id": "pB9A5E9upERg",
        "colab_type": "code",
        "outputId": "a083aff2-2edc-42b7-cdef-f9aaeef1adcd",
        "colab": {
          "base_uri": "https://localhost:8080/",
          "height": 34
        }
      },
      "source": [
        "from joblib import dump\n",
        "from sklearn.feature_extraction.text import TfidfVectorizer\n",
        "from sklearn.neighbors import NearestNeighbors\n",
        "\n",
        "\n",
        "#df = pd.read_csv('post_here2.csv')\n",
        "exp_list = df.drop(columns=['subreddit']).astype(str).values.tolist()\n",
        "\n",
        "subreddit_list = df.subreddit.values.tolist()\n",
        "\n",
        "multisub_string = []\n",
        "for i in range(len(exp_list)):\n",
        "    multisub_string.append(' '.join(exp_list[i]))\n",
        "\n",
        "vectorizer = TfidfVectorizer(stop_words='english', strip_accents='ascii',\n",
        "                                 ngram_range=(1,3), sublinear_tf=True)\n",
        "    \n",
        "#vectorizer2 = TfidfVectorizer(stop_words='english', strip_accents='ascii',\n",
        "                                  #ngram_range=(1,3), use_idf=False)\n",
        "                               \n",
        "dtm = vectorizer.fit_transform(multisub_string)\n",
        "\n",
        "model = NearestNeighbors(n_neighbors=3, algorithm='brute', n_jobs=3)\n",
        "model.fit(dtm)\n",
        "\n",
        "#vectorizer2.fit(multisub_string)\n",
        "\n",
        "dump(model, 'post_here_model_final1.joblib')\n",
        "#dump(vectorizer, 'vectorizer1.joblib')\n",
        "#dump(vectorizer2, 'vectorizer2.joblib')\n",
        "\n",
        "#text = vectorizer2.transform([string])\n",
        "    \n",
        "#pred = model.kneighbors(text, return_distance=True)"
      ],
      "execution_count": 0,
      "outputs": [
        {
          "output_type": "execute_result",
          "data": {
            "text/plain": [
              "['post_here_model_final1.joblib']"
            ]
          },
          "metadata": {
            "tags": []
          },
          "execution_count": 62
        }
      ]
    },
    {
      "cell_type": "code",
      "metadata": {
        "id": "TN7KZ-fTuw5q",
        "colab_type": "code",
        "outputId": "99ebf417-334c-4ea5-e69b-07761f9f711a",
        "colab": {
          "base_uri": "https://localhost:8080/",
          "height": 134
        }
      },
      "source": [
        "from sklearn.feature_extraction.text import TfidfVectorizer\n",
        "from joblib import dump\n",
        "\n",
        "exp_list = df.drop(columns=['subreddit']).astype(str).values.tolist()\n",
        "\n",
        "subreddit_list = df.subreddit.values.tolist()\n",
        "\n",
        "multisub_string = []\n",
        "for i in range(len(exp_list)):\n",
        "    multisub_string.append(' '.join(exp_list[i]))\n",
        "\n",
        "vectorizer2 = TfidfVectorizer(stop_words='english', strip_accents='ascii',\n",
        "                                  ngram_range=(1,3), use_idf=False)\n",
        "\n",
        "vectorizer2.fit(multisub_string)\n",
        "\n",
        "#dump(vectorizer2, 'vectorizer_final.joblib')"
      ],
      "execution_count": 0,
      "outputs": [
        {
          "output_type": "execute_result",
          "data": {
            "text/plain": [
              "TfidfVectorizer(analyzer='word', binary=False, decode_error='strict',\n",
              "                dtype=<class 'numpy.float64'>, encoding='utf-8',\n",
              "                input='content', lowercase=True, max_df=1.0, max_features=None,\n",
              "                min_df=1, ngram_range=(1, 3), norm='l2', preprocessor=None,\n",
              "                smooth_idf=True, stop_words='english', strip_accents='ascii',\n",
              "                sublinear_tf=False, token_pattern='(?u)\\\\b\\\\w\\\\w+\\\\b',\n",
              "                tokenizer=None, use_idf=False, vocabulary=None)"
            ]
          },
          "metadata": {
            "tags": []
          },
          "execution_count": 67
        }
      ]
    },
    {
      "cell_type": "code",
      "metadata": {
        "id": "BSERi2FC5Ijq",
        "colab_type": "code",
        "colab": {}
      },
      "source": [
        "from joblib import load\n",
        "\n",
        "model = load('post_here_model_final.joblib')"
      ],
      "execution_count": 0,
      "outputs": []
    },
    {
      "cell_type": "code",
      "metadata": {
        "id": "v4pJ4hBI5ROA",
        "colab_type": "code",
        "colab": {}
      },
      "source": [
        "from sklearn.feature_extraction.text import TfidfVectorizer\n",
        "import pickle\n",
        "\n",
        "exp_list = df_clean.drop(columns=['subreddit']).astype(str).values.tolist()\n",
        "\n",
        "subreddit_list = df.subreddit.values.tolist()\n",
        "\n",
        "multisub_string = []\n",
        "for i in range(len(exp_list)):\n",
        "    multisub_string.append(' '.join(exp_list[i]))\n",
        "\n",
        "vectorizer2 = TfidfVectorizer(stop_words='english', strip_accents='ascii',\n",
        "                                  ngram_range=(1,3), use_idf=False)\n",
        "\n",
        "vectorizer2.fit(multisub_string)\n",
        "\n",
        "pickle.dump(vectorizer2, open(\"vectorizer2.pickle\", \"wb\"))"
      ],
      "execution_count": 0,
      "outputs": []
    },
    {
      "cell_type": "code",
      "metadata": {
        "id": "GJBmA3YAA6b-",
        "colab_type": "code",
        "colab": {}
      },
      "source": [
        "vectorizer = pickle.load(open(\"vectorizer2.pickle\", \"rb\"))"
      ],
      "execution_count": 0,
      "outputs": []
    },
    {
      "cell_type": "code",
      "metadata": {
        "id": "WUxuGBEFCqYe",
        "colab_type": "code",
        "colab": {}
      },
      "source": [
        "text = vectorizer.transform(['This is test text. Let\\'s hope this works'])"
      ],
      "execution_count": 0,
      "outputs": []
    },
    {
      "cell_type": "code",
      "metadata": {
        "id": "1FyRKDo6I3Fg",
        "colab_type": "code",
        "outputId": "f6cf1276-c3a4-4cff-eab5-306423a38c7b",
        "colab": {
          "base_uri": "https://localhost:8080/",
          "height": 34
        }
      },
      "source": [
        "text.shape"
      ],
      "execution_count": 0,
      "outputs": [
        {
          "output_type": "execute_result",
          "data": {
            "text/plain": [
              "(1, 20481141)"
            ]
          },
          "metadata": {
            "tags": []
          },
          "execution_count": 14
        }
      ]
    },
    {
      "cell_type": "code",
      "metadata": {
        "id": "00dr2kZfC8uI",
        "colab_type": "code",
        "colab": {}
      },
      "source": [
        "pred = model.kneighbors(text, return_distance=True)"
      ],
      "execution_count": 0,
      "outputs": []
    },
    {
      "cell_type": "code",
      "metadata": {
        "id": "ZMfQn8ZMC_4K",
        "colab_type": "code",
        "outputId": "36d51525-d2a0-4e89-ae50-998996b45e6a",
        "colab": {
          "base_uri": "https://localhost:8080/",
          "height": 34
        }
      },
      "source": [
        "print(pred)"
      ],
      "execution_count": 0,
      "outputs": [
        {
          "output_type": "stream",
          "text": [
            "(array([[1.40897664, 1.40910366, 1.40973957]]), array([[1194,  246,  626]]))\n"
          ],
          "name": "stdout"
        }
      ]
    },
    {
      "cell_type": "code",
      "metadata": {
        "id": "MOOQVtLQ-Qu2",
        "colab_type": "code",
        "outputId": "dd1b1d2a-1b80-4be7-a3e2-6be94f980533",
        "colab": {
          "base_uri": "https://localhost:8080/",
          "height": 134
        }
      },
      "source": [
        "vectorizer2"
      ],
      "execution_count": 0,
      "outputs": [
        {
          "output_type": "execute_result",
          "data": {
            "text/plain": [
              "TfidfVectorizer(analyzer='word', binary=False, decode_error='strict',\n",
              "                dtype=<class 'numpy.float64'>, encoding='utf-8',\n",
              "                input='content', lowercase=True, max_df=1.0, max_features=None,\n",
              "                min_df=1, ngram_range=(1, 3), norm='l2', preprocessor=None,\n",
              "                smooth_idf=True, stop_words='english', strip_accents='ascii',\n",
              "                sublinear_tf=False, token_pattern='(?u)\\\\b\\\\w\\\\w+\\\\b',\n",
              "                tokenizer=None, use_idf=False, vocabulary=None)"
            ]
          },
          "metadata": {
            "tags": []
          },
          "execution_count": 66
        }
      ]
    },
    {
      "cell_type": "code",
      "metadata": {
        "id": "MHOCQjpwQoad",
        "colab_type": "code",
        "colab": {}
      },
      "source": [
        "import gzip"
      ],
      "execution_count": 0,
      "outputs": []
    },
    {
      "cell_type": "code",
      "metadata": {
        "id": "hggCEheQR0mX",
        "colab_type": "code",
        "colab": {}
      },
      "source": [
        "fp = gzip.open('tfidf_final.data','wb')\n",
        "pickle.dump(vectorizer2,fp)\n",
        "fp.close()"
      ],
      "execution_count": 0,
      "outputs": []
    },
    {
      "cell_type": "code",
      "metadata": {
        "id": "I7X6Km5jVdZA",
        "colab_type": "code",
        "outputId": "262d57c9-1bd7-4832-dbc9-ea1716b7e564",
        "colab": {
          "base_uri": "https://localhost:8080/",
          "height": 34
        }
      },
      "source": [
        "print(test)"
      ],
      "execution_count": 0,
      "outputs": [
        {
          "output_type": "stream",
          "text": [
            "\n"
          ],
          "name": "stdout"
        }
      ]
    },
    {
      "cell_type": "code",
      "metadata": {
        "id": "KFYJIJPvVHjO",
        "colab_type": "code",
        "colab": {}
      },
      "source": [
        "fp = gzip.open('tfidf.data','rb')\n",
        "tfidf = pickle.load(fp)\n",
        "fp.close()"
      ],
      "execution_count": 0,
      "outputs": []
    },
    {
      "cell_type": "code",
      "metadata": {
        "id": "1cJeOZSoVPO5",
        "colab_type": "code",
        "colab": {}
      },
      "source": [
        "test = tfidf.transform(['This'])"
      ],
      "execution_count": 0,
      "outputs": []
    },
    {
      "cell_type": "code",
      "metadata": {
        "id": "YVJMqTKmBEMd",
        "colab_type": "code",
        "colab": {}
      },
      "source": [
        "from joblib import load\n",
        "\n",
        "model = load('post_here_model_final.joblib')"
      ],
      "execution_count": 0,
      "outputs": []
    },
    {
      "cell_type": "code",
      "metadata": {
        "id": "LOpV0lAgwtD0",
        "colab_type": "code",
        "colab": {}
      },
      "source": [
        "fp = gzip.open('tfidf_final.data','rb')\n",
        "tfidf = pickle.load(fp)\n",
        "fp.close()\n",
        "\n",
        "model = load('post_here_model_final1.joblib')"
      ],
      "execution_count": 0,
      "outputs": []
    },
    {
      "cell_type": "code",
      "metadata": {
        "id": "uE83tWqauBym",
        "colab_type": "code",
        "colab": {}
      },
      "source": [
        "def function(string):\n",
        "    text = tfidf.transform([string])\n",
        "\n",
        "    pred = model.kneighbors(text, return_distance=True)\n",
        "    n = pred[0][0]\n",
        "\n",
        "    subs = pd.read_csv('post_here2.csv')\n",
        "    subreddit_list = subs.subreddit.values.tolist()\n",
        "\n",
        "    for n in range(3):\n",
        "        print('Predicted Subreddit:', subreddit_list[pred[1][0][n]], \n",
        "              ' | Distance:', pred[0][0][n])"
      ],
      "execution_count": 0,
      "outputs": []
    },
    {
      "cell_type": "code",
      "metadata": {
        "id": "EVZd2lAhwNuh",
        "colab_type": "code",
        "outputId": "33d060e2-b9b3-499c-fa1e-46565f9e725c",
        "colab": {
          "base_uri": "https://localhost:8080/",
          "height": 67
        }
      },
      "source": [
        "function('Mt. Everest is not the tallest mountain.')"
      ],
      "execution_count": 0,
      "outputs": [
        {
          "output_type": "stream",
          "text": [
            "Predicted Subreddit: CampingandHiking  | Distance: 1.4003073600973148\n",
            "Predicted Subreddit: climbing  | Distance: 1.4020876182283166\n",
            "Predicted Subreddit: Nepal  | Distance: 1.4022380350869044\n"
          ],
          "name": "stdout"
        }
      ]
    },
    {
      "cell_type": "code",
      "metadata": {
        "id": "VLw9yoUFv_0z",
        "colab_type": "code",
        "colab": {}
      },
      "source": [
        "subs = pd.read_csv('post_here2.csv')"
      ],
      "execution_count": 0,
      "outputs": []
    },
    {
      "cell_type": "code",
      "metadata": {
        "id": "BYC0toeEwHNw",
        "colab_type": "code",
        "outputId": "b73ec1b0-8773-4be5-ad2f-079ef3ffb903",
        "colab": {
          "base_uri": "https://localhost:8080/",
          "height": 34
        }
      },
      "source": [
        "subs.subreddit[135]"
      ],
      "execution_count": 0,
      "outputs": [
        {
          "output_type": "execute_result",
          "data": {
            "text/plain": [
              "'PoliticalHumor'"
            ]
          },
          "metadata": {
            "tags": []
          },
          "execution_count": 33
        }
      ]
    }
  ]
}